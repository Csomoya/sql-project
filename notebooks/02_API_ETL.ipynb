{
 "cells": [
  {
   "cell_type": "code",
   "execution_count": null,
   "id": "429d152c",
   "metadata": {},
   "outputs": [],
   "source": [
    "#importing modules\n",
    "import pandas as pd\n",
    "from sqlalchemy import create_engine\n",
    "from dotenv import load_dotenv\n",
    "import os"
   ]
  },
  {
   "cell_type": "code",
   "execution_count": null,
   "id": "50651549",
   "metadata": {},
   "outputs": [],
   "source": [
    "#Getting Env Variable\n",
    "password = os.getenv(\"SUPER_SECRET_KEY\")"
   ]
  },
  {
   "cell_type": "code",
   "execution_count": null,
   "id": "1084264b",
   "metadata": {},
   "outputs": [],
   "source": [
    "#Loading CSV\n",
    "product_tree_csv_df = pd.read_csv('product_treeV1.csv')\n",
    "product_tree_csv_df"
   ]
  },
  {
   "cell_type": "code",
   "execution_count": null,
   "id": "cc0522d3",
   "metadata": {},
   "outputs": [],
   "source": [
    "#db connection\n",
    "raw_host = 'isba-dev-01.c9q88v25is0v.us-east-1.rds.amazonaws.com'\n",
    "raw_username = \"admin\"\n",
    "raw_password = \"isba_4715\"\n",
    "raw_schema = \"sql_project\"\n",
    "\n",
    "raw_db_config = {\n",
    "    'host' : raw_host,\n",
    "    'username' : raw_username,\n",
    "    'password' : raw_password,\n",
    "    'schema' : raw_schema\n",
    "}\n",
    "\n",
    "raw_engine = create_engine(f\"mysql+mysqldb://{raw_db_config['username']}:{raw_db_config['password']}@{raw_db_config['host']}/{raw_db_config['schema']}\")"
   ]
  },
  {
   "cell_type": "code",
   "execution_count": null,
   "id": "863417cb",
   "metadata": {},
   "outputs": [],
   "source": [
    "#Send prod_tree df to SQL\n",
    "prod_table = \"ProductTree\"\n",
    "\n",
    "product_tree_csv_df.to_sql(prod_table, raw_engine, index = False, if_exists = \"append\")\n"
   ]
  },
  {
   "cell_type": "code",
   "execution_count": null,
   "id": "c62c1fcb",
   "metadata": {},
   "outputs": [],
   "source": [
    "#Loading Vulnerabbility Data\n",
    "vulnerability_df = pd.read_csv('vulnerabilitiesV1.csv')\n",
    "vulnerability_df"
   ]
  },
  {
   "cell_type": "code",
   "execution_count": null,
   "id": "967b7704",
   "metadata": {},
   "outputs": [],
   "source": [
    "#Sending Vulnerability data to SQL\n",
    "vuln_table = \"Vulnerabilities\"\n",
    "\n",
    "vulnerability_df.to_sql(vuln_table, raw_engine, index = False, if_exists = \"append\")"
   ]
  },
  {
   "cell_type": "code",
   "execution_count": null,
   "id": "517800c0",
   "metadata": {},
   "outputs": [],
   "source": []
  }
 ],
 "metadata": {
  "kernelspec": {
   "display_name": "Python 3 (ipykernel)",
   "language": "python",
   "name": "python3"
  },
  "language_info": {
   "codemirror_mode": {
    "name": "ipython",
    "version": 3
   },
   "file_extension": ".py",
   "mimetype": "text/x-python",
   "name": "python",
   "nbconvert_exporter": "python",
   "pygments_lexer": "ipython3",
   "version": "3.8.16"
  }
 },
 "nbformat": 4,
 "nbformat_minor": 5
}
